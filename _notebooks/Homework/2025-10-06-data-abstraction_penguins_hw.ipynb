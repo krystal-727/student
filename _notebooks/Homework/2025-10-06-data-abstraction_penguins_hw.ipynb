{
 "cells": [
  {
   "cell_type": "raw",
   "id": "244ca838",
   "metadata": {
    "vscode": {
     "languageId": "raw"
    }
   },
   "source": [
    "---\n",
    "code\n",
    "#VSC-dfe87eff\n",
    "javascript\n",
    "%%javascript\n",
    "\n",
    "\n",
    "**Part 2:** Edit the `ChangeUsername()` function to accept a `newUsername` parameter, then set the `username` variable to the `newUsername` parameter.\n",
    "\n",
    "**Part 3:** Edit the `ChangePassword()` function to accept a `newPassword` parameter, then set the `password` variable to the `newPassword` parameter.\n",
    "\n",
    "**Part 4:** Make the `Login()` function check if the parameters `_username` and `_password` are equal to the `username` and `password` variables, then print out if the login succeeded or failed using console.log()."
   ]
  },
  {
   "cell_type": "code",
   "execution_count": null,
   "id": "ef977706",
   "metadata": {
    "vscode": {
     "languageId": "javascript"
    }
   },
   "outputs": [
    {
     "data": {
      "application/javascript": "  let username = \"Giuseppe\";\n  let password = \"giuseppe_very_awesome_password\";\n // part 1 :\n\n  function() {\n    console.log(\"Username: \" + username);\n    console.log(\"Password: \" + password);\n }\n// part 2 :\n  function ChangeUsername(newUsername) {\n    username = newUsername;\n}\n// part 3\nfunction ChangePassword(newPassword) {\n    password = newPassword;\n}\n// part 4 :\nfunction Login(_username, _password) {\n    if (_username === username && _password === password) {\n        console.log(\"Login successful!\");\n        return true;\n         } else {\n        console.log(\"Login failed. Incorrect username or password.\");\n        return false;\n    }\n}\n",
      "text/plain": [
       "<IPython.core.display.Javascript object>"
      ]
     },
     "metadata": {},
     "output_type": "display_data"
    }
   ],
   "source": [
    "%%javascript\n",
    "  let username = \"Giuseppe\";\n",
    "  let password = \"giuseppe_very_awesome_password\";\n",
    " // part 1 \n",
    "\n",
    "  function() {\n",
    "    console.log(\"Username: \" + username);\n",
    "    console.log(\"Password: \" + password);\n",
    " }\n",
    "// part 2 \n",
    "  function ChangeUsername(newUsername) {\n",
    "    username = newUsername;\n",
    "}\n",
    "// part 3\n",
    "function ChangePassword(newPassword) {\n",
    "    password = newPassword;\n",
    "}\n",
    "// part 4 \n",
    "function Login(_username, _password) {\n",
    "    if (_username === username && _password === password) {\n",
    "        console.log(\"Login successful!\");\n",
    "        return true;\n",
    "         } else {\n",
    "        console.log(\"Login failed. Incorrect username or password.\");\n",
    "        return false;\n",
    "    }\n",
    "}"
   ]
  },
  {
   "cell_type": "markdown",
   "id": "a45fb3f1",
   "metadata": {},
   "source": [
    "---\n",
    "\n",
    "## <b>Popcorn Hack 2 (Progress Check)</b>\n",
    "\n",
    "Use the examples provided in the lesson if you're stuck.\n",
    "\n",
    "**Part 1:** Make a class named `House`\n",
    "\n",
    "**Part 2:** Make a constructor for the `House` class with the parameters cost, age, and size\n",
    "\n",
    "**Part 3:** Make an instance of the House class with the name myHouse and fill the parameters with any numbers you want.\n",
    "\n",
    "Write your code down here:"
   ]
  },
  {
   "cell_type": "code",
   "execution_count": null,
   "id": "bb7a40cf",
   "metadata": {
    "vscode": {
     "languageId": "javascript"
    }
   },
   "outputs": [
    {
     "data": {
      "application/javascript": "// popcorn hack 2 code goes here:\n\nclass House {\n\n    constructor(cost, age, size) {\n        this.cost = cost ;\n        this.age = age;\n        this.size = size;\n    }\n}\n// make an instance of house class \nconst myHouse = new House (250000, 50, 1500);\n",
      "text/plain": [
       "<IPython.core.display.Javascript object>"
      ]
     },
     "metadata": {},
     "output_type": "display_data"
    }
   ],
   "source": [
    "%%javascript\n",
    "// popcorn hack 2 code goes here:\n",
    "\n",
    "class House {\n",
    "\n",
    "    constructor(cost, age, size) {\n",
    "        this.cost = cost;\n",
    "        this.age = age;\n",
    "        this.size = size;\n",
    "    }\n",
    "}\n",
    "// make an instance of house class \n",
    "const myHouse = new House (250000, 50, 1500);"
   ]
  },
  {
   "cell_type": "markdown",
   "id": "de48f604",
   "metadata": {},
   "source": [
    "---\n",
    "\n",
    "## <b>Final task</b>\n",
    "\n",
    "**Part 1:** Create 2 variables in the constructor like this: this.variableName = something. \n",
    "These variables will be called: `this.positionX`, `this.velocityX`.\n",
    "\n",
    "**Part 2:** Create 2 methods called `MoveLeft()` and `MoveRight()`, <br>\n",
    "inside MoveLeft() set 'this.velocityX' to -200. <br>\n",
    "inside MoveRight() set 'this.velocityX' to 200.\n",
    "\n",
    "**Part 3:** Create a function called `UpdatePosition()`. Inside this function, add 'this.velocityX' to 'this.positionX'\n",
    "\n",
    "**Part 4:** Call each method (MoveLeft(), MoveRight(), UpdatePosition() ), on the player object."
   ]
  },
  {
   "cell_type": "code",
   "execution_count": 5,
   "id": "81c4882b",
   "metadata": {
    "vscode": {
     "languageId": "javascript"
    }
   },
   "outputs": [
    {
     "data": {
      "application/javascript": "// final task code goes here:\n\nclass Player\n{\n\t// part 1\n\tconstructor() {\n  this.positionX = 2 \n  this.velocityX = 4 \n\t}\n\n\t// part 2\nMoveLeft() {\n\tthis.velocityX = -200\n\tconsole.log(\"Moving left with velocity:\", this.velocityX);\n}\nMoveRight() {\n\tthis.velocityX = 200\n\tconsole.log(\"Moving right with velocity:\", this.velocityX);\n}\n\t// part 3\n}\nUpdatePosition() {\n  this.positionX += this.velocityX;\n  console.log(\"Updates postionX to:\", this.positionX);\n}\n\n// part 4\nlet player = new Player;\n\n// call the functions on player here:\nplayer.MoveLeft();\nplayer.UpdatePosition();\nplayer.MoveRight();\nplayer.UpdatePosition();\n",
      "text/plain": [
       "<IPython.core.display.Javascript object>"
      ]
     },
     "metadata": {},
     "output_type": "display_data"
    }
   ],
   "source": [
    "%%javascript\n",
    "// final task code goes here:\n",
    "\n",
    "class Player\n",
    "{\n",
    "\t// part 1\n",
    "\tconstructor() {\n",
    "  this.positionX = 2 \n",
    "  this.velocityX = 4 \n",
    "\t}\n",
    "\n",
    "\t// part 2\n",
    "MoveLeft() {\n",
    "\tthis.velocityX = -200\n",
    "\tconsole.log(\"Moving left with velocity:\", this.velocityX);\n",
    "}\n",
    "MoveRight() {\n",
    "\tthis.velocityX = 200\n",
    "\tconsole.log(\"Moving right with velocity:\", this.velocityX);\n",
    "}\n",
    "\t// part 3\n",
    "}\n",
    "UpdatePosition() {\n",
    "  this.positionX += this.velocityX;\n",
    "  console.log(\"Updates postionX to:\", this.positionX);\n",
    "}\n",
    " \n",
    "// part 4\n",
    "let player = new Player;\n",
    "\n",
    "// call the functions on player here:\n",
    "player.MoveLeft();\n",
    "player.UpdatePosition();\n",
    "player.MoveRight();\n",
    "player.UpdatePosition();\n"
   ]
  },
  {
   "cell_type": "markdown",
   "id": "7042352e",
   "metadata": {},
   "source": [
    "---\n",
    "\n",
    "<b>Grading</b>\n",
    "\n",
    "Popcorn Hack 1: Completion gives 0.2 points.<br/><br/>\n",
    "Popcorn Hack 2: Completion gives 0.3 points.<br/><br/>\n",
    "\n",
    "Final Task: Completion gives 0.5 points. Max of 0.02 extra points from extra work relevant to the subject or finishing assignment in a way that shows exceptional comprehension of the lesson.\n",
    "\n",
    "<br>\n",
    "<b><u>Make sure to submit your homework deployed link onto the global homework submission google sheet</u><b>\n",
    "\n",
    "<a href=\"https://docs.google.com/forms/d/e/1FAIpQLSfwgZR0QYAg_uYuZ7XqqEm-xlU0-gZFE2dtgnKEe5kH7Yp0Vg/viewform?usp=sharing&ouid=105179298243342263196\"><b>Submission Google Form for Homework</b></a>"
   ]
  }
 ],
 "metadata": {
  "kernelspec": {
   "display_name": "venv",
   "language": "python",
   "name": "python3"
  },
  "language_info": {
   "codemirror_mode": {
    "name": "ipython",
    "version": 3
   },
   "file_extension": ".py",
   "mimetype": "text/x-python",
   "name": "python",
   "nbconvert_exporter": "python",
   "pygments_lexer": "ipython3",
   "version": "3.13.7"
  }
 },
 "nbformat": 4,
 "nbformat_minor": 5
}
