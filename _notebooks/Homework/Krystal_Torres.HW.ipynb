{
 "cells": [
  {
   "cell_type": "markdown",
   "id": "3ddc81e9",
   "metadata": {},
   "source": [
    "---\n",
    "layout: post\n",
    "toc: True\n",
    "breadcrumb: True\n",
    "title: CSSE Classes and Methods HW\n",
    "description: These are the homework problems and popcorn hacks.\n",
    "permalink: /csse/fall_2025/javascript/classes-and-methods/homework\n",
    "author: Adya S, Niharika B, Salma Z, Anika S, Sophie H\n",
    "---"
   ]
  },
  {
   "cell_type": "markdown",
   "id": "04a627a9",
   "metadata": {},
   "source": [
    "## **Classes and Methods**"
   ]
  },
  {
   "cell_type": "markdown",
   "id": "a88704ec",
   "metadata": {},
   "source": [
    "### <u>Popcorn Hack 1 - Dice Roller</u>\n",
    "\n",
    "\n",
    "Instructions:\n",
    "Finish the code in the cell below (fill in underlines and add lines of code) so it works as described:\n",
    "\n",
    "- Create a class called Dice that:\n",
    "    - Has a property for the number of sides.\n",
    "    - Has a method roll() that returns a random number between 1 and the number of sides.\n",
    "\n",
    "\n",
    "At the bottom, test your game by making a DiceGame object and calling roll() a few times.\n",
    "\n",
    "The code is currently NOT functional. When you have completed this popcorn hack, the code should work. Have fun!"
   ]
  },
  {
   "cell_type": "code",
   "execution_count": null,
   "id": "83cfb441",
   "metadata": {
    "vscode": {
     "languageId": "javascript"
    }
   },
   "outputs": [
    {
     "data": {
      "application/javascript": "\nclass Dice {\n  constructor(sides) {\n    this.sides = sides;\n  }\n\n  roll() {\n    return Math.floor(Math.random() * this.sides) + 1;\n  }\n}\n\n// Test the Dice class\nconst dice = new Dice(6); // 6-sided dice\n\nconsole.log(dice.roll());\nconsole.log(dice.roll());\nconsole.log(dice.roll());\n\n\n// Test the Dice class:\n// INSTANTIATE A NEW DICE OBJECT WITH A NUMBER OF SIDES\n\n// CALL THE ROLL METHOD A FEW TIMES AND PRINT THE RESULTS\n",
      "text/plain": [
       "<IPython.core.display.Javascript object>"
      ]
     },
     "metadata": {},
     "output_type": "display_data"
    }
   ],
   "source": [
    "%%javascript\n",
    "\n",
    "class Dice {\n",
    "  constructor(sides) {\n",
    "    this.sides = sides;\n",
    "  }\n",
    "\n",
    "  roll() {\n",
    "    return Math.floor(Math.random() * this.sides) + 1;\n",
    "  }\n",
    "}\n",
    "\n",
    "// Test the Dice class\n",
    "const dice = new Dice(6); // 6 sided dice\n",
    "\n",
    "console.log(dice.roll());\n",
    "console.log(dice.roll());\n",
    "console.log(dice.roll());\n",
    "\n",
    "\n",
    "// Test the Dice class:\n",
    "// INSTANTIATE A NEW DICE OBJECT WITH A NUMBER OF SIDES\n",
    "\n",
    "// CALL THE ROLL METHOD A FEW TIMES AND PRINT THE RESULTS"
   ]
  },
  {
   "cell_type": "markdown",
   "id": "eb525919",
   "metadata": {},
   "source": [
    "### <u>Popcorn Hack 2 - Pet Simulator</u>\n",
    "\n",
    "\n",
    "This hack is a bit more complicated than the first. Points will be awarded based on effort and completion.\n",
    "\n",
    "\n",
    "Analyze the block of code below. Then, complete the following instructions:\n",
    "\n",
    "\n",
    "1) Create a simple Pet class by filling in the _________.\n",
    "\n",
    "2) Add at least 2 properties (like hunger, energy, or happiness). EX: Stats decrease over time.\n",
    "\n",
    "3) Add at least two functioning methods (such as feed, play, or sleep) EX: Buttons increase stats.\n",
    "\n",
    "4) Give your pet a name and print their current properties.\n",
    "\n",
    "5) Bonus: Add a \"status\" method to print all your pet's stats.\n",
    "\n",
    "\n",
    "The code is currently NOT functional. When you have completed this popcorn hack, the code should work. Have fun!\n",
    "\n"
   ]
  },
  {
   "cell_type": "code",
   "execution_count": 23,
   "id": "740b316c",
   "metadata": {},
   "outputs": [
    {
     "data": {
      "application/javascript": "\n<div id=\"output\"></div>\n<button onclick=\"myPet.feed(); updateOutput();\">Feed Pet</button>\n<button onclick=\"myPet.play(); updateOutput();\">Play with Pet</button>\n\n<script>\nclass Pet {\n  constructor(name) {\n    this.name = name;\n    this.breed = \"dog\";\n    this.age = 5;\n    this.happiness = 5;\n  }\n\n  feed() {\n    this.happiness += 1;\n    console.log(this.name + \" has been fed! Happiness is now \" + this.happiness + \".\");\n  }\n\n  play() {\n    this.happiness += 2;\n    console.log(this.name + \" played! Happiness is now \" + this.happiness + \".\");\n  }\n}\n\nconst myPet = new Pet(\"Potato\");\n\nconst output = document.getElementById(\"output\");\noutput.innerText =\n  \"Name: \" + myPet.name + \", Breed: \" + myPet.breed + \", Age: \" + myPet.age + \", Happiness: \" + myPet.happiness;\n\nmyPet.feed();\nmyPet.play();\n</script>\n\n",
      "text/plain": [
       "<IPython.core.display.Javascript object>"
      ]
     },
     "metadata": {},
     "output_type": "display_data"
    }
   ],
   "source": [
    "%%javascript\n",
    "\n",
    "<div id=\"output\"></div>\n",
    "<button onclick=\"myPet.feed(); updateOutput();\">Feed Pet</button>\n",
    "<button onclick=\"myPet.play(); updateOutput();\">Play with Pet</button>\n",
    "\n",
    "<script>\n",
    "class Pet {\n",
    "  constructor(name) {\n",
    "    this.name = name;\n",
    "    this.breed = \"dog\";\n",
    "    this.age = 5;\n",
    "    this.happiness = 5;\n",
    "  }\n",
    "\n",
    "  feed() {\n",
    "    this.happiness += 1;\n",
    "    console.log(this.name + \" has been fed! Happiness is now \" + this.happiness + \".\");\n",
    "  }\n",
    "\n",
    "  play() {\n",
    "    this.happiness += 2;\n",
    "    console.log(this.name + \" played! Happiness is now \" + this.happiness + \".\");\n",
    "  }\n",
    "}\n",
    "\n",
    "const myPet = new Pet(\"Potato\");\n",
    "\n",
    "const output = document.getElementById(\"output\");\n",
    "output.innerText =\n",
    "  \"Name: \" + myPet.name + \", Breed: \" + myPet.breed + \", Age: \" + myPet.age + \", Happiness: \" + myPet.happiness;\n",
    "\n",
    "myPet.feed();\n",
    "myPet.play();\n",
    "</script>\n",
    "\n"
   ]
  },
  {
   "cell_type": "markdown",
   "id": "e7ae67bd",
   "metadata": {},
   "source": [
    "### <u>Homework</u>\n",
    "\n",
    "Complete the following questions in the next code block.\n",
    "\n",
    "1) Create a class Person with properties 'name' and 'age'. Print their properties.\n",
    "\n",
    "2) Add a method greet() to your Person class that prints a greeting using the person's name.\n",
    "\n",
    "3) Create a class Book with properties 'title', 'author', and 'pages'. Instantiate a book and print its properties.\n",
    "\n",
    "4) Add a method read(pages) to your Book class that increments a pagesRead property and prints a message.\n",
    "\n",
    "5) Add a method isLongBook() that returns true if pages > 300, otherwise false. Print the result for your book.\n",
    "\n",
    "6) .\n",
    "Create a class Car with properties 'make', 'model', and 'fuel'. Add methods drive(distance) and refuel(amount). Print messages in each method\n",
    "7) Add a static method info() to your Car class that prints 'Cars are vehicles.'\n",
    "\n",
    "8) Create a class ElectricCar that extends Car. Add a property 'battery' and a method charge(amount) that increases battery. Print battery level after charging.\n",
    "\n",
    "10) Create a routine that combines your objects: drive a Car, charge an ElectricCar, read pages from a Book, and call greet() on Person. Print outputs for each action.\n",
    "\n",
    "11) **Extra Credit:** Submit the original OOP Breakout Game Code (found on [OpenCS](https://github.com/Open-Coding-Society/pages/blob/main/hacks/breakout/breakout.md?plain=1)) after making the following edits:\n",
    "- Add another feature to the game: Add a method so that the ball must collide with some bricks twice for a brick to break completely.\n",
    "- Edit a method in the ball class to increase/decrease the speed of the ball: Please add a COMMENT on the game code that specifies which line you edited."
   ]
  },
  {
   "cell_type": "code",
   "execution_count": 69,
   "id": "52d29f28",
   "metadata": {
    "vscode": {
     "languageId": "javascript"
    }
   },
   "outputs": [
    {
     "data": {
      "application/javascript": "\n\n<div id=\"output\"></div>\n\n<script>\nclass Person {\n  constructor(name, age) {\n    this.name = name;\n    this.age = age;\n  }\n\n  greet() {\n    console.log(\"Hi! My name is \" + this.name + \" and I am \" + this.age + \" years old.\");\n  }\n}\n\nclass Book {\n  constructor(title, author, pages) {\n    this.title = title;\n    this.author = author;\n    this.pages = pages;\n    this.pagesRead = 0;\n  }\n\n  read(pages) {\n    this.pagesRead += pages;\n    console.log(\"You read \" + pages + \" pages of \" + this.title + \". Total pages read: \" + this.pagesRead);\n  }\n\n  isLongBook() {\n    return this.pages > 300;\n  }\n}\n\nclass Car {\n  constructor(make, model, fuel) {\n    this.make = make;\n    this.model = model;\n    this.fuel = fuel;\n  }\n\n  drive(distance) {\n    const fuelUsed = distance / 10;\n    if (fuelUsed > this.fuel) {\n      console.log(\"Not enough fuel to drive \" + distance + \" km!\");\n    } else {\n      this.fuel -= fuelUsed;\n      console.log(\"You drove \" + distance + \" km. Remaining fuel: \" + this.fuel.toFixed(2) + \" liters.\");\n    }\n  }\n\n  refuel(amount) {\n    this.fuel += amount;\n    console.log(\"You refueled \" + amount + \" liters. Total fuel: \" + this.fuel.toFixed(2) + \" liters.\");\n  }\n\n  static info() {\n    console.log(\"Cars are vehicles.\");\n  }\n}\n\nclass ElectricCar extends Car {\n  constructor(make, model, fuel, battery) {\n    super(make, model, fuel);\n    this.battery = battery;\n  }\n\n  charge(amount) {\n    this.battery += amount;\n    console.log(this.make + \" \" + this.model + \" battery charged. Battery level: \" + this.battery + \"%\");\n  }\n}\n\n// Create instances\nconst person = new Person(\"Krystal\", 15);\nconst book = new Book(\"Harry Potter\", \"J.K. Rowling\", 500);\nconst car = new Car(\"Toyota\", \"Corolla\", 20);\nconst eCar = new ElectricCar(\"Tesla\", \"Model 3\", 0, 50);\n\n// Routine\nconsole.log(\"---- Routine Start ----\");\n\n// Person greets\nperson.greet();\n\n// Drive the Car\ncar.drive(50);\ncar.refuel(10);\n\n// Charge the ElectricCar\neCar.charge(30);\neCar.drive(10);\n\n// Read pages from the Book\nbook.read(50);\nconsole.log(\"Is the book long? \" + book.isLongBook());\n\nconsole.log(\"---- Routine End ----\");\n</script>\n\n\n\n\n\n\n\n\n",
      "text/plain": [
       "<IPython.core.display.Javascript object>"
      ]
     },
     "metadata": {},
     "output_type": "display_data"
    }
   ],
   "source": [
    "%%javascript\n",
    "\n",
    "\n",
    "<div id=\"output\"></div>\n",
    "\n",
    "<script>\n",
    "class Person {\n",
    "  constructor(name, age) {\n",
    "    this.name = name;\n",
    "    this.age = age;\n",
    "  }\n",
    "\n",
    "  greet() {\n",
    "    console.log(\"Hi! My name is \" + this.name + \" and I am \" + this.age + \" years old.\");\n",
    "  }\n",
    "}\n",
    "\n",
    "class Book {\n",
    "  constructor(title, author, pages) {\n",
    "    this.title = title;\n",
    "    this.author = author;\n",
    "    this.pages = pages;\n",
    "    this.pagesRead = 0;\n",
    "  }\n",
    "\n",
    "  read(pages) {\n",
    "    this.pagesRead += pages;\n",
    "    console.log(\"You read \" + pages + \" pages of \" + this.title + \". Total pages read: \" + this.pagesRead);\n",
    "  }\n",
    "\n",
    "  isLongBook() {\n",
    "    return this.pages > 300;\n",
    "  }\n",
    "}\n",
    "\n",
    "class Car {\n",
    "  constructor(make, model, fuel) {\n",
    "    this.make = make;\n",
    "    this.model = model;\n",
    "    this.fuel = fuel;\n",
    "  }\n",
    "\n",
    "  drive(distance) {\n",
    "    const fuelUsed = distance / 10;\n",
    "    if (fuelUsed > this.fuel) {\n",
    "      console.log(\"Not enough fuel to drive \" + distance + \" km!\");\n",
    "    } else {\n",
    "      this.fuel -= fuelUsed;\n",
    "      console.log(\"You drove \" + distance + \" km. Remaining fuel: \" + this.fuel.toFixed(2) + \" liters.\");\n",
    "    }\n",
    "  }\n",
    "\n",
    "  refuel(amount) {\n",
    "    this.fuel += amount;\n",
    "    console.log(\"You refueled \" + amount + \" liters. Total fuel: \" + this.fuel.toFixed(2) + \" liters.\");\n",
    "  }\n",
    "\n",
    "  static info() {\n",
    "    console.log(\"Cars are vehicles.\");\n",
    "  }\n",
    "}\n",
    "\n",
    "class ElectricCar extends Car {\n",
    "  constructor(make, model, fuel, battery) {\n",
    "    super(make, model, fuel);\n",
    "    this.battery = battery;\n",
    "  }\n",
    "\n",
    "  charge(amount) {\n",
    "    this.battery += amount;\n",
    "    console.log(this.make + \" \" + this.model + \" battery charged. Battery level: \" + this.battery + \"%\");\n",
    "  }\n",
    "}\n",
    "\n",
    "// Create instances\n",
    "const person = new Person(\"Krystal\", 15);\n",
    "const book = new Book(\"Harry Potter\", \"J.K. Rowling\", 500);\n",
    "const car = new Car(\"Toyota\", \"Corolla\", 20);\n",
    "const eCar = new ElectricCar(\"Tesla\", \"Model 3\", 0, 50);\n",
    "\n",
    "// Routine\n",
    "console.log(\"---- Routine Start ----\");\n",
    "\n",
    "// Person greets\n",
    "person.greet();\n",
    "\n",
    "// Drive the Car\n",
    "car.drive(50);\n",
    "car.refuel(10);\n",
    "\n",
    "// Charge the ElectricCar\n",
    "eCar.charge(30);\n",
    "eCar.drive(10);\n",
    "\n",
    "// Read pages from the Book\n",
    "book.read(50);\n",
    "console.log(\"Is the book long? \" + book.isLongBook());\n",
    "\n",
    "console.log(\"---- Routine End ----\");\n",
    "</script>\n",
    "\n",
    "\n",
    "\n",
    "\n",
    "\n",
    "\n",
    "\n",
    "\n"
   ]
  }
 ],
 "metadata": {
  "kernelspec": {
   "display_name": "venv",
   "language": "python",
   "name": "python3"
  },
  "language_info": {
   "codemirror_mode": {
    "name": "ipython",
    "version": 3
   },
   "file_extension": ".py",
   "mimetype": "text/x-python",
   "name": "python",
   "nbconvert_exporter": "python",
   "pygments_lexer": "ipython3",
   "version": "3.12.3"
  }
 },
 "nbformat": 4,
 "nbformat_minor": 5
}
