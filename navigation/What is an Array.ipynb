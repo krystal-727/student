{
 "cells": [
  {
   "cell_type": "code",
   "execution_count": null,
   "id": "16a1ea0b",
   "metadata": {},
   "outputs": [],
   "source": [
    "page_metadata = {\n",
    "    \"layout\": \"base\",\n",
    "    \"title\": \"Blogs\",\n",
    "    \"search_exclude\": True,\n",
    "    \"permalink\": \"/retro-blogs/\"\n",
    "}"
   ]
  },
  {
   "cell_type": "markdown",
   "id": "2e0690ec",
   "metadata": {},
   "source": [
    "# What is an Array?\n",
    " \n",
    " ### An array is a data structure that stores a collection of elements of the same type under one variable name, making it easier to organize and manage data. It is helpful when working with many values of the same type, since it keeps code shorter and more manageable. Arrays are created using square brackets and filled with values. \n",
    " \n",
    " ### In some programming languages, arrays can only hold one type of data, while in others—such as Python—lists or tuples can hold different types. To change an element in an array, you assign a new value to its position using its index.\n",
    "\n",
    "### For example - if you are writing code for the score output of a game with multiple players, you could write this down:\n",
    "\n",
    "```\n",
    "student1_score, student2_score, student3_score\n",
    "```\n",
    "\n",
    "### But, this would be extra work and not as efficient as an array in your data would be. This is an example of the data with an array:\n",
    "```\n",
    "test_scores = [95, 88, 76, 92, 84]\n",
    "```\n",
    "\n",
    "### See how the data is cleaner and all organized under the array \"test_scores\"?\n",
    "\n",
    "### A multi-dimensional array works in the same way but is able to provide more variables and informatiom.\n",
    "\n",
    "### Here is an example: \n",
    "\n",
    "```\n",
    "test_scores = [\n",
    "    [  # Layer 1\n",
    "        [95, 88],   # Row 1\n",
    "        [76, 92]    # Row 2\n",
    "    ],\n",
    "    [  # Layer 2\n",
    "        [84, 90],   # Row 1\n",
    "        [78, 85]    # Row 2\n",
    "    ]\n",
    "]\n",
    "```\n",
    "### This data has 2 layers and 2 rows and 1 column, making it similar to a cube, hence the re3D name.\n",
    "\n",
    "\n",
    "\n",
    "\n",
    "## Works Cited:\n",
    "source 1) https://www.lenovo.com/us/en/glossary/array//?orgRef=https%253A%252F%252Fwww.google.com%252F\n",
    "\n",
    "source 2) https://www.geeksforgeeks.org/c/multidimensional-arrays-in-c/ \n",
    "\n"
   ]
  }
 ],
 "metadata": {
  "language_info": {
   "name": "python"
  }
 },
 "nbformat": 4,
 "nbformat_minor": 5
}
